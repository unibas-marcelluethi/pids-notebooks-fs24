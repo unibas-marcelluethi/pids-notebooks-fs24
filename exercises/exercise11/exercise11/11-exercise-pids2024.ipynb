{
 "cells": [
  {
   "cell_type": "code",
   "execution_count": null,
   "id": "c1924d69-ad5a-4b81-92e1-e93833e224b0",
   "metadata": {},
   "outputs": [],
   "source": [
    "# Initialize Otter\n",
    "import otter\n",
    "grader = otter.Notebook(\"11-exercise-pids2024.ipynb\")"
   ]
  },
  {
   "cell_type": "markdown",
   "id": "670d3603-9d27-40f8-af72-4ffc9d828d0f",
   "metadata": {},
   "source": [
    "# Exercise sheet 11\n",
    "\n",
    "**Hello everyone!**\n",
    "\n",
    "**Points: 15**\n",
    "\n",
    "Topics of this exercise sheet are:\n",
    "* Classification\n",
    "* Cross validation\n",
    "* Grid search\n",
    "* Data cleaning\n",
    "\n",
    "Please let us know if you have questions or problems! <br>\n",
    "Contact us during the exercise session or on [Piazza](https://piazza.com/unibas.ch/spring2024/63982).\n",
    "\n",
    "**Automatic Feedback**\n",
    "\n",
    "This notebook can be automatically graded using Otter grader. To find how many points you get, simply run `grader.check_all()` from a new cell. "
   ]
  },
  {
   "cell_type": "code",
   "execution_count": null,
   "id": "de6a078f-c508-48af-8b53-fb060ef6ec27",
   "metadata": {},
   "outputs": [],
   "source": [
    "import numpy as np\n",
    "import pandas as pd\n",
    "import matplotlib.pyplot as plt\n",
    "\n",
    "import pandas as pd\n",
    "from sklearn.model_selection import train_test_split\n",
    "from sklearn.preprocessing import StandardScaler, OneHotEncoder\n",
    "from sklearn.compose import ColumnTransformer\n",
    "from sklearn.pipeline import Pipeline\n",
    "from sklearn.impute import SimpleImputer\n",
    "from sklearn.neural_network import MLPClassifier\n",
    "from sklearn.metrics import accuracy_score\n",
    "from sklearn.model_selection import GridSearchCV\n",
    "from sklearn.model_selection import cross_validate\n",
    "from sklearn.datasets import fetch_openml"
   ]
  },
  {
   "cell_type": "markdown",
   "id": "d7efb4a7-42cc-4189-bd04-fc15cfb43755",
   "metadata": {},
   "source": [
    "# Question 1: Classification with neural networks (5 Points)\n",
    "\n",
    "\n",
    "In this first task, you will use a neural network for classification. For this, we load the dataset `cancer.csv`. When you run `df.head()`, you will get\n",
    "\n",
    "```text\n",
    "   radius_mean  texture_mean  ...  fractal_dimension_worst  diagnosis\n",
    "0        13.74         17.91  ...                  0.07014          0\n",
    "1        13.37         16.39  ...                  0.07628          0\n",
    "2        14.69         13.98  ...                  0.09208          0\n",
    "3        12.91         16.33  ...                  0.06949          0\n",
    "4        13.62         23.23  ...                  0.06953          0\n",
    "```\n",
    "\n",
    "Each line represents a cell. The last column, `diagnosis`, is 1 if the cell is cancerous, and 0 if it is benign. All other columns describe geometric features of the cell. "
   ]
  },
  {
   "cell_type": "code",
   "execution_count": null,
   "id": "5e9e8573-e75e-4ec6-84e8-0790f479fdc6",
   "metadata": {},
   "outputs": [],
   "source": [
    "df = pd.read_csv(\"daten/cancer.csv\")\n",
    "df.head()"
   ]
  },
  {
   "cell_type": "markdown",
   "id": "64e64831-703d-431c-b545-b4f8b3bc39a7",
   "metadata": {},
   "source": [
    "#### Question 1a: Loading and preprocessing the data (1 Point)\n",
    "\n",
    "Create two DataFrames again, `X` and `y`, where `y` contains only the diagnoses and `X` contains all the other columns. \n",
    "*Hint: Don't forget to scale your data using [StandardScaler](https://scikit-learn.org/stable/modules/generated/sklearn.preprocessing.StandardScaler.html)*"
   ]
  },
  {
   "cell_type": "code",
   "execution_count": null,
   "id": "509b8943-1d41-45dc-9741-58fa217bf7c4",
   "metadata": {},
   "outputs": [],
   "source": [
    "class Question1a:\n",
    "    ...\n",
    "    X_scaled = ..."
   ]
  },
  {
   "cell_type": "code",
   "execution_count": null,
   "id": "d345def2-1ccd-4982-b610-7ca29c38fff3",
   "metadata": {},
   "outputs": [],
   "source": [
    "grader.check(\"Question 1a\")"
   ]
  },
  {
   "cell_type": "markdown",
   "id": "cf9ba6c2-44ca-4bd2-8991-e4f6117dd149",
   "metadata": {},
   "source": [
    "### Question 1b: Train the model (2 Points)\n",
    "\n",
    "Train an [MLPClassifier](https://scikit-learn.org/stable/modules/generated/sklearn.neural_network.MLPClassifier.html#sklearn.neural_network.MLPClassifier) \n",
    "using two hidden layers with `10` neurons each and set `max_iter` to 30000. \n",
    "Test how well your model performs on the data you trained on, by computing the *accuracy*. \n",
    "The *Accuracy*, is is the number of correct predictions divided by the number of predictions.\n"
   ]
  },
  {
   "cell_type": "code",
   "execution_count": null,
   "id": "a62beab6-9521-4cc1-b0a1-3d00601e1ac5",
   "metadata": {},
   "outputs": [],
   "source": [
    "class Question1b:\n",
    "    ...\n",
    "    accuracy = ...\n",
    "    print(f\"accuracy is {accuracy}\")"
   ]
  },
  {
   "cell_type": "code",
   "execution_count": null,
   "id": "c2f6c03d-584c-4bf4-8bd7-00d0870cbc4d",
   "metadata": {},
   "outputs": [],
   "source": [
    "grader.check(\"Question 1b\")"
   ]
  },
  {
   "cell_type": "markdown",
   "id": "749e50c8-18d6-4272-a474-b786e1176e7f",
   "metadata": {},
   "source": [
    "### Question 1c: Test on a test dataset (2 Points)\n",
    "\n",
    "Load the test set `cancer_test.csv` on a new set of patients. Compute the accuracy again. What do you observe.\n",
    "Use the scaler from `Question1a` to scale the data. "
   ]
  },
  {
   "cell_type": "code",
   "execution_count": null,
   "id": "423923b7-068e-4921-8d44-fde51ed51a80",
   "metadata": {},
   "outputs": [],
   "source": [
    "class Question1c:\n",
    "    ...\n",
    "    accuracy = ...\n",
    "    print(f\"accuracy is {accuracy}\")"
   ]
  },
  {
   "cell_type": "code",
   "execution_count": null,
   "id": "988cbf5e-fd5b-46fe-82c2-f3d9f8dfaa62",
   "metadata": {},
   "outputs": [],
   "source": [
    "grader.check(\"Question 1c\")"
   ]
  },
  {
   "cell_type": "markdown",
   "id": "62059330-186c-4e5e-b24b-4567f8126d21",
   "metadata": {},
   "source": [
    "# Question 2: Cross-validation and Grid search (5 Points)\n",
    "\n",
    "In this exercise we try to compare the quality of different models using cross-validation on the training data. \n",
    "We use the cancer dataset from the previous exercise"
   ]
  },
  {
   "cell_type": "markdown",
   "id": "ed9c8c7d-42f8-4661-b564-5c5a81042927",
   "metadata": {},
   "source": [
    "#### Question 2a: Setting up a parameter grid (2 Points)\n",
    "\n",
    "Read in the documentation [cross_validate](https://scikit-learn.org/stable/modules/generated/sklearn.model_selection.cross_validate.html#sklearn.model_selection.cross_validate) (and using a search engine/AI) how to do crossvalidation in scikit learn. Perform a 5 fold cross-validation on the scaled data from Question1a using the classifier\n",
    "defined in Question1b.  Compute the mean and standard deviation of the `test_score`. "
   ]
  },
  {
   "cell_type": "code",
   "execution_count": null,
   "id": "2bcb68bf-23f8-44a8-8d86-64876ac8a422",
   "metadata": {},
   "outputs": [],
   "source": [
    "class Question2a:\n",
    "    cv = ...\n",
    "    print(\"cv result: \", cv)\n",
    "    mean_test_score = ...\n",
    "    std_test_score = ...\n",
    "    print(f\"mean {mean_test_score} standard deviaton {std_test_score}\")"
   ]
  },
  {
   "cell_type": "code",
   "execution_count": null,
   "id": "266e2afc-a4d7-4ca2-89bc-cca3ca219640",
   "metadata": {},
   "outputs": [],
   "source": [
    "grader.check(\"Question 2a\")"
   ]
  },
  {
   "cell_type": "markdown",
   "id": "4a9ba862-f98f-4028-aa0c-b90545863d96",
   "metadata": {},
   "source": [
    "Is the average test score closer to what you got in training or what you got when applying the classifier for new patients?"
   ]
  },
  {
   "cell_type": "markdown",
   "id": "a631a2fc-d88c-40ed-8242-5d275adf1fa8",
   "metadata": {},
   "source": [
    "### Question 2b: Setting up a param grid (1 Point)\n",
    "\n",
    "Next we want to do grid search. For this, we set up a dictionary with all parameters we want to search. \n",
    "The keys are the parameter of the classifier we want to vary and the values\n",
    "are all the possible values the parameter can take on. (Check the documentation of [MLPClassifier](https://scikit-learn.org/stable/modules/generated/sklearn.neural_network.MLPClassifier.html) to find the parameter names.  Define a dictionary `param_grid` for a grid search over\n",
    "six different models, with layer sizes `(10, ), (10, 10), (10, 10, 10)` and with activation functions `relu` and `tanh`. "
   ]
  },
  {
   "cell_type": "code",
   "execution_count": null,
   "id": "70a14a87-6499-4bbd-8bb9-ace95d8e9327",
   "metadata": {},
   "outputs": [],
   "source": [
    "class Question2b:\n",
    "    param_grid = ..."
   ]
  },
  {
   "cell_type": "code",
   "execution_count": null,
   "id": "6b5ff12e-8dba-40f6-a2be-6a3f6ba9aa2f",
   "metadata": {},
   "outputs": [],
   "source": [
    "grader.check(\"Question 2b\")"
   ]
  },
  {
   "cell_type": "markdown",
   "id": "9df35d7a-ee4a-4ab7-8d5b-5bc206d625f4",
   "metadata": {},
   "source": [
    "### Question 2c: Do the grid search (2 Points)\n",
    "\n",
    "Perform a grid search using [GridSearchCV](https://scikit-learn.org/stable/modules/generated/sklearn.model_selection.GridSearchCV.html) where you use the given MLPClassifier as the estimator and the parameter grid you set up above. \n",
    "Use `accuracy` as scoring and choose a 5 fold cross-validation. "
   ]
  },
  {
   "cell_type": "code",
   "execution_count": null,
   "id": "ae529148-bad4-45dc-9a7e-8e60df8d158f",
   "metadata": {},
   "outputs": [],
   "source": [
    "\n",
    "class Question2c:\n",
    "    ...\n",
    "    grid_search = ...\n",
    "\n",
    "    print(grid_search)"
   ]
  },
  {
   "cell_type": "code",
   "execution_count": null,
   "id": "0d3591bd-3e74-4613-8212-c15b25ef306d",
   "metadata": {},
   "outputs": [],
   "source": [
    "grader.check(\"Question 2c\")"
   ]
  },
  {
   "cell_type": "markdown",
   "id": "269f44d2-116d-4b4f-a3fb-6a04e68f17d4",
   "metadata": {},
   "source": [
    "\n",
    "# Question 3: A more complex example (5 Points)\n",
    "\n",
    "In this exercise we walk through a data cleaning process and working with non-numerical data, before we \n",
    "do a classification. "
   ]
  },
  {
   "cell_type": "code",
   "execution_count": null,
   "id": "b0f3cb95-59c6-4569-bf30-ad4c124267bb",
   "metadata": {
    "scrolled": true
   },
   "outputs": [],
   "source": [
    "\n",
    "# Load the dataset\n",
    "X, y = fetch_openml(\"titanic\", version=1, as_frame=True, return_X_y=True)\n",
    "y = y.apply(lambda x : int(x))\n"
   ]
  },
  {
   "cell_type": "markdown",
   "id": "559081b3-7c3e-4500-a06b-d82182f89302",
   "metadata": {},
   "source": [
    "### Question 3a) Data cleaning (I) (2 Points)"
   ]
  },
  {
   "cell_type": "markdown",
   "id": "18e2d457-e8ea-46cb-8c02-999d4c98b55f",
   "metadata": {},
   "source": [
    "Not all columns contain meaningful information for prediction. \n",
    "Extact the column `pclass, sex, cabin, fare, boat`. \n",
    "You can read about the meaning of the coluns [here](https://www.openml.org/search?type=data&sort=runs&id=40945&status=active).\n",
    "Fill the `nan`s in column `boat` with a value of `0` and replace the non-numerical values with an other unique value. \n",
    "Change `sex` to 0 for male and 1 for female. Assigned the resulting dataframe to the variable `X_cleaned`. \n",
    "\n",
    "\n",
    "*Hint: To find out what values you have in the column 'boat' use the method `unique`*. "
   ]
  },
  {
   "cell_type": "code",
   "execution_count": null,
   "id": "c5ac24f6-2ac5-4364-bf67-7512d1c8725e",
   "metadata": {},
   "outputs": [],
   "source": [
    "\n",
    "class Question3a:\n",
    "    ...\n",
    "    X_cleaned = ...\n",
    "    \n",
    "    display(X_cleaned)\n"
   ]
  },
  {
   "cell_type": "code",
   "execution_count": null,
   "id": "3f246016-f873-4401-8f4c-f783d1c6c943",
   "metadata": {},
   "outputs": [],
   "source": [
    "grader.check(\"Question 3a\")"
   ]
  },
  {
   "cell_type": "markdown",
   "id": "0a04205e-49d1-4d71-aa4c-eeb5ff2dd5fc",
   "metadata": {},
   "source": [
    "### Question 3b) Data cleaning (II) (2 Points)"
   ]
  },
  {
   "cell_type": "markdown",
   "id": "ff2082db-fc02-4485-8d9d-8d8a171c8bc8",
   "metadata": {},
   "source": [
    "Drop now all rows which contain `nan`s. Make sure you also drop them from the label `y`. "
   ]
  },
  {
   "cell_type": "code",
   "execution_count": null,
   "id": "a4e075fb-0f84-49a2-8f30-487ca94e74e3",
   "metadata": {},
   "outputs": [],
   "source": [
    "class Question3b:\n",
    "    X = Question3a.X_cleaned \n",
    "    \n",
    "    X_nonan = ...\n",
    "    display(X_nonan)"
   ]
  },
  {
   "cell_type": "code",
   "execution_count": null,
   "id": "154d395c-e151-453b-91da-bcb34cdd1c48",
   "metadata": {},
   "outputs": [],
   "source": [
    "grader.check(\"Question 3b\")"
   ]
  },
  {
   "cell_type": "markdown",
   "id": "f57a1de3-b850-4635-bed7-f0c8c9888b9e",
   "metadata": {},
   "source": [
    "### Question3c: Split in training and test set (1 point)\n",
    "\n",
    "Use scikit's [train_test_split](https://scikit-learn.org/stable/modules/generated/sklearn.model_selection.train_test_split.html)\n",
    "to split the data into a training, test and validation set. The training set should be around 60% of the data and the other two sets 20%. Assign the data to the variables `X_train, y_train, X_val, y_val, X_test, y_test`"
   ]
  },
  {
   "cell_type": "code",
   "execution_count": null,
   "id": "6038d887-a1f7-4278-9d2c-523f324ae033",
   "metadata": {},
   "outputs": [],
   "source": [
    "\n",
    "class Question3c:\n",
    "    X_train = ...\n",
    "    y_train = ...\n",
    "    X_val = ...\n",
    "    y_val = ...\n",
    "    X_test = ...\n",
    "    y_test = ...\n",
    "    "
   ]
  },
  {
   "cell_type": "code",
   "execution_count": null,
   "id": "0d1a03d8-a902-4049-b526-e05b164185b3",
   "metadata": {
    "scrolled": true
   },
   "outputs": [],
   "source": [
    "grader.check(\"Question 3c\")"
   ]
  },
  {
   "cell_type": "markdown",
   "id": "ddb98b80-f0f0-4543-8070-2786b2932672",
   "metadata": {},
   "source": [
    "### Question 3d) Training the classifier. \n",
    "\n",
    "Now you can train the classifier. You won't get points for it, but wouldn't it be unsatisfying not to do it?\n"
   ]
  },
  {
   "cell_type": "code",
   "execution_count": null,
   "id": "5a6e6bb2-a0e5-4d8c-b3d3-be44ad690029",
   "metadata": {},
   "outputs": [],
   "source": [
    "class Question3d:\n",
    "\n",
    "    ...\n",
    "    accuracy = ...\n",
    "    print(\"accuracy: \", accuracy)"
   ]
  },
  {
   "cell_type": "code",
   "execution_count": null,
   "id": "6875a100-42a2-4b29-b043-ba9b6606b939",
   "metadata": {},
   "outputs": [],
   "source": []
  }
 ],
 "metadata": {
  "kernelspec": {
   "display_name": "Python 3 (ipykernel)",
   "language": "python",
   "name": "conda-env-python_pids_2024_env-py"
  },
  "language_info": {
   "codemirror_mode": {
    "name": "ipython",
    "version": 3
   },
   "file_extension": ".py",
   "mimetype": "text/x-python",
   "name": "python",
   "nbconvert_exporter": "python",
   "pygments_lexer": "ipython3",
   "version": "3.12.3"
  }
 },
 "nbformat": 4,
 "nbformat_minor": 5
}
